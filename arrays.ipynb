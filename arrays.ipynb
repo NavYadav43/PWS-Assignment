{
  "nbformat": 4,
  "nbformat_minor": 0,
  "metadata": {
    "colab": {
      "provenance": []
    },
    "kernelspec": {
      "name": "python3",
      "display_name": "Python 3"
    },
    "language_info": {
      "name": "python"
    }
  },
  "cells": [
    {
      "cell_type": "code",
      "source": [
        "\n",
        "# 1. Check for duplicates in an array\n",
        "def has_duplicates(arr):\n",
        "    return len(arr) != len(set(arr))\n",
        "\n",
        "arr1 = [1, 2, 4, 2, 5, 9]\n",
        "print(has_duplicates(arr1))  # Output: True\n",
        "\n",
        "# 2. Rotate an array to the right by k steps\n",
        "def rotate_array(arr, k):\n",
        "    k %= len(arr)\n",
        "    return arr[-k:] + arr[:-k]\n",
        "\n",
        "arr2 = [1, 2, 3, 4, 5, 6, 7]\n",
        "k = 3\n",
        "print(rotate_array(arr2, k))  # Output: [5, 6, 7, 1, 2, 3, 4]\n",
        "\n",
        "# 3. Reverse an array in-place\n",
        "def reverse_array(arr):\n",
        "    left, right = 0, len(arr) - 1\n",
        "    while left < right:\n",
        "        arr[left], arr[right] = arr[right], arr[left]\n",
        "        left += 1\n",
        "        right -= 1\n",
        "\n",
        "arr3 = [2, 4, 5, 7, 9, 12]\n",
        "reverse_array(arr3)\n",
        "print(arr3)  # Output: [12, 9, 7, 5, 4, 2]\n",
        "\n",
        "# 4. Find the maximum element in an array\n",
        "def find_max(arr):\n",
        "    return max(arr)\n",
        "\n",
        "arr4 = [10, 5, 20, 8, 15]\n",
        "print(find_max(arr4))  # Output: 20\n",
        "\n",
        "# 5. Remove duplicates from a sorted array in-place\n",
        "def remove_duplicates(arr):\n",
        "    if not arr:\n",
        "        return []\n",
        "    index = 0\n",
        "    for i in range(1, len(arr)):\n",
        "        if arr[i] != arr[index]:\n",
        "            index += 1\n",
        "            arr[index] = arr[i]\n",
        "    return arr[:index + 1]\n",
        "\n",
        "arr5 = [1, 1, 2, 2, 2, 3, 3, 4, 4, 4, 5, 5]\n",
        "print(remove_duplicates(arr5))  # Output: [1, 2, 3, 4, 5]\n",
        "```\n"
      ],
      "metadata": {
        "id": "gW249ZtT94rO"
      },
      "execution_count": null,
      "outputs": []
    },
    {
      "cell_type": "code",
      "execution_count": null,
      "metadata": {
        "id": "-amTVwtef3WX"
      },
      "outputs": [],
      "source": []
    }
  ]
}