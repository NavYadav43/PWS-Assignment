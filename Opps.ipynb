{
  "nbformat": 4,
  "nbformat_minor": 0,
  "metadata": {
    "colab": {
      "provenance": []
    },
    "kernelspec": {
      "name": "python3",
      "display_name": "Python 3"
    },
    "language_info": {
      "name": "python"
    }
  },
  "cells": [
    {
      "cell_type": "code",
      "source": [
        "class BankAccount:\n",
        "    def __init__(self, account_number, holder_name, balance=0):\n",
        "        self.account_number = account_number\n",
        "        self.holder_name = holder_name\n",
        "        self.balance = balance\n",
        "\n",
        "    def deposit(self, amount):\n",
        "        self.balance += amount\n",
        "        return f\"Deposited {amount}. New balance: {self.balance}\"\n",
        "\n",
        "    def withdraw(self, amount):\n",
        "        if amount > self.balance:\n",
        "            return \"Insufficient balance\"\n",
        "        self.balance -= amount\n",
        "        return f\"Withdrawn {amount}. Remaining balance: {self.balance}\"\n",
        "\n",
        "# Problem 2: Employee Management\n",
        "class Employee:\n",
        "    def __init__(self, emp_id, name, salary):\n",
        "        self.emp_id = emp_id\n",
        "        self.name = name\n",
        "        self.salary = salary\n",
        "\n",
        "    def yearly_bonus(self):\n",
        "        return self.salary * 0.10\n",
        "\n",
        "    def display_details(self):\n",
        "        return f\"Employee {self.name} (ID: {self.emp_id}), Salary: {self.salary}, Bonus: {self.yearly_bonus()}\"\n",
        "\n",
        "# Problem 3: Vehicle Rental\n",
        "class VehicleRental:\n",
        "    def __init__(self):\n",
        "        self.vehicles = {\"Car\": 3, \"Bike\": 5}\n",
        "\n",
        "    def rent_vehicle(self, vehicle):\n",
        "        if self.vehicles.get(vehicle, 0) > 0:\n",
        "            self.vehicles[vehicle] -= 1\n",
        "            return f\"{vehicle} rented successfully.\"\n",
        "        return f\"{vehicle} not available.\"\n",
        "\n",
        "    def return_vehicle(self, vehicle):\n",
        "        if vehicle in self.vehicles:\n",
        "            self.vehicles[vehicle] += 1\n",
        "            return f\"{vehicle} returned successfully.\"\n",
        "        return \"Invalid vehicle.\"\n",
        "\n",
        "    def display_available(self):\n",
        "        return self.vehicles\n",
        "\n",
        "# Problem 4: Library Catalog\n",
        "class Book:\n",
        "    def __init__(self, title, author):\n",
        "        self.title = title\n",
        "        self.author = author\n",
        "        self.is_borrowed = False\n",
        "\n",
        "class Library:\n",
        "    def __init__(self):\n",
        "        self.books = []\n",
        "\n",
        "    def add_book(self, book):\n",
        "        self.books.append(book)\n",
        "\n",
        "    def borrow_book(self, title):\n",
        "        for book in self.books:\n",
        "            if book.title == title and not book.is_borrowed:\n",
        "                book.is_borrowed = True\n",
        "                return f\"{title} borrowed successfully.\"\n",
        "        return \"Book unavailable.\"\n",
        "\n",
        "    def display_books(self):\n",
        "        return [book.title for book in self.books if not book.is_borrowed]\n",
        "\n",
        "# Problem 5: Product Inventory\n",
        "class Product:\n",
        "    def __init__(self, name, quantity):\n",
        "        self.name = name\n",
        "        self.quantity = quantity\n",
        "        return {task: details for task, details in self.tasks.items() if not details['completed']}"
      ],
      "metadata": {
        "id": "gW249ZtT94rO"
      },
      "execution_count": null,
      "outputs": []
    },
    {
      "cell_type": "code",
      "execution_count": null,
      "metadata": {
        "id": "-amTVwtef3WX"
      },
      "outputs": [],
      "source": []
    }
  ]
}