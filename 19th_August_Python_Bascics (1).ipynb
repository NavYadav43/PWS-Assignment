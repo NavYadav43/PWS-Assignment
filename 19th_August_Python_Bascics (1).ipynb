{
 "cells": [
  {
   "cell_type": "markdown",
   "id": "62cb0d97-6329-483a-b196-8c49888466e4",
   "metadata": {},
   "source": [
    "''' 1. Declare two variables, `x` and `y`, and assign them integer values.\n",
    "Swap the values of these variables without using any temporary\n",
    "variable. '''"
   ]
  },
  {
   "cell_type": "code",
   "execution_count": 1,
   "id": "e1e34a30-8efb-4403-a73e-54f17a0b742c",
   "metadata": {},
   "outputs": [
    {
     "name": "stdout",
     "output_type": "stream",
     "text": [
      "Before swap a= 10 , b= 20\n",
      "After swap a= 20 , b= 10\n"
     ]
    }
   ],
   "source": [
    "a=10\n",
    "b=20\n",
    "\n",
    "print(\"Before swap a=\", a,\", \"\"b=\", b)\n",
    "\n",
    "b=b-a\n",
    "a=a+b\n",
    "\n",
    "print(\"After swap a=\", a, \", \"  \"b=\", b)"
   ]
  },
  {
   "cell_type": "code",
   "execution_count": null,
   "id": "43ef54a8-e180-499d-b33f-1beaecb69fe1",
   "metadata": {},
   "outputs": [],
   "source": []
  },
  {
   "cell_type": "code",
   "execution_count": null,
   "id": "a6245439-422c-4714-9912-f4c18c1a8c8c",
   "metadata": {},
   "outputs": [],
   "source": []
  },
  {
   "cell_type": "markdown",
   "id": "70becbe8-e6b0-4c36-bb6b-24cf341311c6",
   "metadata": {},
   "source": [
    "''' 2. Create a program that calculates the area of a rectangle. Take the\n",
    "length and width as inputs from the user and store them in variables.\n",
    "Calculate and display the area. '''"
   ]
  },
  {
   "cell_type": "code",
   "execution_count": 2,
   "id": "8af930fb-d0d3-4c82-8ecb-0eefa4d92946",
   "metadata": {},
   "outputs": [
    {
     "name": "stdin",
     "output_type": "stream",
     "text": [
      "Enter the Length:  5\n",
      "Enter the Breadth:  6\n"
     ]
    },
    {
     "name": "stdout",
     "output_type": "stream",
     "text": [
      "Area of Rectangle= 30\n"
     ]
    }
   ],
   "source": [
    "#Area of Ractangle\n",
    "\n",
    "a=int(input(\"Enter the Length: \"))\n",
    "\n",
    "b=int(input(\"Enter the Breadth: \"))\n",
    "\n",
    "print(\"Area of Rectangle=\", a*b)"
   ]
  },
  {
   "cell_type": "code",
   "execution_count": null,
   "id": "ab625ec0-507a-4848-abcd-45a26b17ec55",
   "metadata": {},
   "outputs": [],
   "source": []
  },
  {
   "cell_type": "code",
   "execution_count": null,
   "id": "a24a01e0-408f-4c9d-90a1-3b99c166d8e0",
   "metadata": {},
   "outputs": [],
   "source": []
  },
  {
   "cell_type": "markdown",
   "id": "3607ac3c-f052-4e51-a1bc-7d8e5af72eeb",
   "metadata": {},
   "source": [
    "''' 3. Write a Python program that converts temperature from Celsius to\n",
    "Fahrenheit. Take the temperature in Celsius as input, store it in a\n",
    "variable, convert it to Fahrenheit, and display the result. '''"
   ]
  },
  {
   "cell_type": "code",
   "execution_count": 1,
   "id": "0695c470-e249-439d-82cd-5545accb8905",
   "metadata": {},
   "outputs": [
    {
     "name": "stdin",
     "output_type": "stream",
     "text": [
      "Enter the temprature in celsius: 25\n"
     ]
    },
    {
     "name": "stdout",
     "output_type": "stream",
     "text": [
      "Temprature in Fahrenheit: 77.0\n"
     ]
    }
   ],
   "source": [
    "# Temprature Converter\n",
    "\n",
    "a= int(input(\"Enter the temprature in celsius:\")) \n",
    "fahrenheit = (a * 9/5) + 32\n",
    "\n",
    "print(\"Temprature in Fahrenheit:\", fahrenheit)"
   ]
  },
  {
   "cell_type": "code",
   "execution_count": null,
   "id": "7f03e590-dbd9-4e02-96e9-574bafdbc93a",
   "metadata": {},
   "outputs": [],
   "source": []
  },
  {
   "cell_type": "code",
   "execution_count": null,
   "id": "44502f0b-98a1-4e8d-adfb-d337e082f831",
   "metadata": {},
   "outputs": [],
   "source": []
  },
  {
   "cell_type": "markdown",
   "id": "dc4d6419-7e9b-4f9f-a85b-8c5f007c1890",
   "metadata": {},
   "source": [
    "#String Based Questions\n",
    "\n",
    "''' 1. Write a Python program that takes a string as input and prints the length of the string. '''"
   ]
  },
  {
   "cell_type": "code",
   "execution_count": 2,
   "id": "46c4f525-17be-46fc-a557-d4d186222244",
   "metadata": {},
   "outputs": [
    {
     "name": "stdin",
     "output_type": "stream",
     "text": [
      "Enter Text to Calculate Words: naveen\n"
     ]
    },
    {
     "name": "stdout",
     "output_type": "stream",
     "text": [
      "The length of the string is: 6\n"
     ]
    }
   ],
   "source": [
    "Text= input(\"Enter Text to Calculate Words:\")\n",
    "print(\"The length of the string is:\", len(Text))"
   ]
  },
  {
   "cell_type": "code",
   "execution_count": null,
   "id": "0bee85c3-8998-4975-8100-83e0c784404e",
   "metadata": {},
   "outputs": [],
   "source": []
  },
  {
   "cell_type": "code",
   "execution_count": null,
   "id": "3cb57be4-d6c7-41ba-be32-9519eb0db03f",
   "metadata": {},
   "outputs": [],
   "source": []
  },
  {
   "cell_type": "markdown",
   "id": "ab7f01a3-cee9-4c80-96e4-9d5c95b83fe2",
   "metadata": {},
   "source": [
    "''' 2. Create a program that takes a sentence from the user and counts the number of vowels (a, e, i, o, u) in the string. '''"
   ]
  },
  {
   "cell_type": "code",
   "execution_count": 10,
   "id": "206f9e9c-c474-4736-853e-6cafb63c6e74",
   "metadata": {},
   "outputs": [
    {
     "name": "stdin",
     "output_type": "stream",
     "text": [
      "Enter text: World\n"
     ]
    },
    {
     "name": "stdout",
     "output_type": "stream",
     "text": [
      "Number of vowels: 1\n"
     ]
    }
   ],
   "source": [
    "Text= input(\"Enter text:\")\n",
    "vowels = \"aeiouAEIOU\"\n",
    "count = sum(Text.count(vowel) for vowel in vowels)\n",
    "print(\"Number of vowels:\", count)"
   ]
  },
  {
   "cell_type": "code",
   "execution_count": null,
   "id": "b31541ec-e9c0-422a-9a4a-3de6db54380b",
   "metadata": {},
   "outputs": [],
   "source": []
  },
  {
   "cell_type": "markdown",
   "id": "3e5aa5f9-b26a-4958-bc05-29f1cd11638e",
   "metadata": {},
   "source": []
  },
  {
   "cell_type": "markdown",
   "id": "19290f19-ce8c-49ba-a338-cbd6ff06a977",
   "metadata": {},
   "source": [
    "''' 3. Given a string, reverse the order of characters using string slicing and print\n",
    "the reversed string. '''"
   ]
  },
  {
   "cell_type": "code",
   "execution_count": 9,
   "id": "d8d6bb86-258a-48e1-bc01-6ba5687cbc64",
   "metadata": {},
   "outputs": [
    {
     "name": "stdin",
     "output_type": "stream",
     "text": [
      "Enter a String Naveen\n"
     ]
    },
    {
     "name": "stdout",
     "output_type": "stream",
     "text": [
      "neevaN\n"
     ]
    }
   ],
   "source": [
    "Text = input(\"Enter a String\")\n",
    "reversed_text=Text[::-1]\n",
    "print(reversed_text)"
   ]
  },
  {
   "cell_type": "code",
   "execution_count": null,
   "id": "9b462c55-d6ab-49a0-989b-34b7bc42b423",
   "metadata": {},
   "outputs": [],
   "source": []
  },
  {
   "cell_type": "code",
   "execution_count": null,
   "id": "aff848a1-620d-4e69-99eb-8d41b6b2505d",
   "metadata": {},
   "outputs": [],
   "source": []
  },
  {
   "cell_type": "markdown",
   "id": "5df54ff9-b646-4305-8306-df2300d12e27",
   "metadata": {},
   "source": [
    "4. Write a program that takes a string as input and checks if it is a palindrome\n",
    "(reads the same forwards and backwards)."
   ]
  },
  {
   "cell_type": "code",
   "execution_count": 8,
   "id": "f387d639-abb8-4757-8d18-2f820f494edd",
   "metadata": {},
   "outputs": [
    {
     "name": "stdin",
     "output_type": "stream",
     "text": [
      "Enter a string: dad\n"
     ]
    },
    {
     "name": "stdout",
     "output_type": "stream",
     "text": [
      "'dad' is a palindrome.\n"
     ]
    }
   ],
   "source": [
    "def is_palindrome(p):\n",
    "    p==p.strip().lower()\n",
    "    \n",
    "    return p == p[::-1]\n",
    "\n",
    "user_input=input(\"Enter a string:\")\n",
    "\n",
    "if is_palindrome (user_input):\n",
    "    print(f\"'{user_input}' is a palindrome.\")\n",
    "else:\n",
    "    print(f\"'{user_input}' is not a palindrome.\")"
   ]
  },
  {
   "cell_type": "code",
   "execution_count": null,
   "id": "686c404a-95de-49b2-b834-d409035cf19e",
   "metadata": {},
   "outputs": [],
   "source": []
  },
  {
   "cell_type": "code",
   "execution_count": null,
   "id": "d60e1a0e-ec16-4dc9-99c7-068d88e40ca9",
   "metadata": {},
   "outputs": [],
   "source": []
  },
  {
   "cell_type": "markdown",
   "id": "48ae0153-7df2-442b-aa04-46040ea841e3",
   "metadata": {},
   "source": [
    "5. Create a program that takes a string as input and removes all the spaces from\n",
    "it. Print the modified string without spaces."
   ]
  },
  {
   "cell_type": "code",
   "execution_count": 6,
   "id": "25d3104d-3cef-4d01-9f5a-e1b10cbf0c97",
   "metadata": {},
   "outputs": [
    {
     "name": "stdin",
     "output_type": "stream",
     "text": [
      "Enter the text   naveen   \n"
     ]
    },
    {
     "name": "stdout",
     "output_type": "stream",
     "text": [
      "naveen\n"
     ]
    }
   ],
   "source": [
    "text= input(\"Enter the text\")\n",
    "text_rmv=(text.strip())\n",
    "print(text_rmv)"
   ]
  },
  {
   "cell_type": "code",
   "execution_count": null,
   "id": "01616acf-d0f8-453b-a354-5e056a563046",
   "metadata": {},
   "outputs": [],
   "source": []
  },
  {
   "cell_type": "code",
   "execution_count": null,
   "id": "e50cc5f6-a4b5-4fe0-9569-90213bfe2e31",
   "metadata": {},
   "outputs": [],
   "source": []
  }
 ],
 "metadata": {
  "kernelspec": {
   "display_name": "Python 3 (ipykernel)",
   "language": "python",
   "name": "python3"
  },
  "language_info": {
   "codemirror_mode": {
    "name": "ipython",
    "version": 3
   },
   "file_extension": ".py",
   "mimetype": "text/x-python",
   "name": "python",
   "nbconvert_exporter": "python",
   "pygments_lexer": "ipython3",
   "version": "3.10.8"
  }
 },
 "nbformat": 4,
 "nbformat_minor": 5
}
