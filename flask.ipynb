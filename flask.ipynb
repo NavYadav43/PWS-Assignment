{
  "nbformat": 4,
  "nbformat_minor": 0,
  "metadata": {
    "colab": {
      "provenance": []
    },
    "kernelspec": {
      "name": "python3",
      "display_name": "Python 3"
    },
    "language_info": {
      "name": "python"
    }
  },
  "cells": [
    {
      "cell_type": "code",
      "source": [
        "from flask import Flask, render_template, request, redirect, url_for, session, jsonify\n",
        "def user_session():\n",
        "    if request.method == 'POST':\n",
        "        session['name'] = request.form['name']\n",
        "        return redirect(url_for('user_session'))\n",
        "    return f\"Hello, {session.get('name', 'Guest')}!\"\n",
        "\n",
        "@app.route('/upload', methods=['POST'])\n",
        "def upload():\n",
        "    file = request.files['file']\n",
        "    if file:\n",
        "        file_path = os.path.join(app.config['UPLOAD_FOLDER'], file.filename)\n",
        "        file.save(file_path)\n",
        "        return \"File uploaded successfully!\"\n",
        "    return \"Upload a file.\"\n",
        "\n",
        "@app.route('/items', methods=['GET', 'POST'])\n",
        "def manage_items():\n",
        "    if request.method == 'POST':\n",
        "        name = request.form['name']\n",
        "        item = Item(name=name)\n",
        "        db.session.add(item)\n",
        "        db.session.commit()\n",
        "    items = Item.query.all()\n",
        "    return render_template('items.html', items=items)\n",
        "\n",
        "@app.route('/register', methods=['POST'])\n",
        "def register():\n",
        "    username = request.form['username']\n",
        "    password = request.form['password']\n",
        "    user = User(username=username, password=password)\n",
        "    db.session.add(user)\n",
        "    db.session.commit()\n",
        "    return \"User registered!\"\n",
        "\n",
        "@app.route('/login', methods=['POST'])\n",
        "def login():\n",
        "    username = request.form['username']\n",
        "    user = User.query.filter_by(username=username).first()\n",
        "    if user:\n",
        "        login_user(user)\n",
        "        return redirect(url_for('dashboard'))\n",
        "    return \"Invalid login!\"\n",
        "\n",
        "@app.route('/dashboard')\n",
        "@login_required\n",
        "def dashboard():\n",
        "    return f\"Welcome {current_user.username}!\"\n",
        "\n",
        "@app.route('/logout')\n",
        "def logout():\n",
        "    logout_user()\n",
        "    return redirect(url_for('home'))\n",
        "\n",
        "@app.route('/api/items', methods=['GET'])\n",
        "def api_items():\n",
        "    items = Item.query.all()\n",
        "    return jsonify([{ 'id': i.id, 'name': i.name } for i in items])\n",
        "\n",
        "@app.errorhandler(404)\n",
        "def not_found_error(error):\n",
        "    return \"Page not found\", 404\n",
        "\n",
        "@app.errorhandler(500)\n",
        "def internal_error(error):\n",
        "    return \"Internal server error\", 500\n",
        "\n",
        "@socketio.on('message')\n",
        "def handle_message(msg):\n",
        "    send(msg, broadcast=True)\n",
        "\n",
        "if __name__ == '__main__':\n",
        "    db.create_all()\n",
        "    socketio.run(app, debug=True)\n"
      ],
      "metadata": {
        "id": "gW249ZtT94rO"
      },
      "execution_count": null,
      "outputs": []
    },
    {
      "cell_type": "code",
      "execution_count": null,
      "metadata": {
        "id": "-amTVwtef3WX"
      },
      "outputs": [],
      "source": []
    }
  ]
}