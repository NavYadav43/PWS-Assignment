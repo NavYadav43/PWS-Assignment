{
  "nbformat": 4,
  "nbformat_minor": 0,
  "metadata": {
    "colab": {
      "provenance": []
    },
    "kernelspec": {
      "name": "python3",
      "display_name": "Python 3"
    },
    "language_info": {
      "name": "python"
    }
  },
  "cells": [
    {
      "cell_type": "code",
      "source": [
        "\n",
        "\n",
        "### **Q1: Tower of Hanoi (Recursion)**\n",
        "The **Tower of Hanoi** problem is solved using recursion. The approach is:\n",
        "1. Move `n-1` disks from **source** to **auxiliary** peg.\n",
        "2. Move the `nth` disk from **source** to **destination** peg.\n",
        "3. Move `n-1` disks from **auxiliary** to **destination** peg.\n",
        "\n",
        "#### **Python Implementation:**\n",
        "```python\n",
        "def tower_of_hanoi(n, source, auxiliary, destination):\n",
        "    if n == 1:\n",
        "        print(f\"Move disk 1 from {source} to {destination}\")\n",
        "        return\n",
        "    tower_of_hanoi(n - 1, source, destination, auxiliary)\n",
        "    print(f\"Move disk {n} from {source} to {destination}\")\n",
        "    tower_of_hanoi(n - 1, auxiliary, source, destination)\n",
        "\n",
        "# Example usage:\n",
        "n = 3  # Number of disks\n",
        "tower_of_hanoi(n, 'A', 'B', 'C')\n",
        "```\n",
        "---\n",
        "### **Q2: Minimum Edit Distance (Dynamic Programming)**\n",
        "The **edit distance** (Levenshtein distance) is calculated using **Dynamic Programming**.\n",
        "\n",
        "#### **Python Implementation:**\n",
        "```python\n",
        "def min_edit_distance(word1, word2):\n",
        "    m, n = len(word1), len(word2)\n",
        "    dp = [[0] * (n + 1) for _ in range(m + 1)]\n",
        "\n",
        "    for i in range(m + 1):\n",
        "        for j in range(n + 1):\n",
        "            if i == 0:\n",
        "                dp[i][j] = j\n",
        "            elif j == 0:\n",
        "                dp[i][j] = i\n",
        "            elif word1[i - 1] == word2[j - 1]:\n",
        "                dp[i][j] = dp[i - 1][j - 1]\n",
        "            else:\n",
        "                dp[i][j] = 1 + min(dp[i - 1][j], dp[i][j - 1], dp[i - 1][j - 1])\n",
        "\n",
        "    return dp[m][n]\n",
        "\n",
        "# Example usage:\n",
        "print(min_edit_distance(\"horse\", \"ros\"))  # Output: 3\n",
        "print(min_edit_distance(\"intention\", \"execution\"))  # Output: 5\n",
        "```\n",
        "---\n",
        "### **Q3: Maximum Value in an Array**\n",
        "```python\n",
        "arr = [13, 1, -3, 22, 5]\n",
        "print(max(arr))  # Output: 22\n",
        "```\n",
        "---\n",
        "### **Q4: Sum of Values in an Array**\n",
        "```python\n",
        "arr = [92, 23, 15, -20, 10]\n",
        "print(sum(arr))  # Output: 120\n",
        "```\n",
        "---\n",
        "### **Q5: Check if a Number is an Armstrong Number**\n",
        "An **Armstrong number** is a number where the sum of its digits, each raised to the power of the number of digits, equals the number itself.\n",
        "\n",
        "#### **Python Implementation:**\n",
        "```python\n",
        "def is_armstrong(n):\n",
        "    num_str = str(n)\n",
        "    num_digits = len(num_str)\n",
        "    armstrong_sum = sum(int(digit) ** num_digits for digit in num_str)\n",
        "    return armstrong_sum == n\n",
        "\n",
        "# Example usage:\n",
        "print(is_armstrong(153))  # Output: True\n",
        "print(is_armstrong(134))  # Output: False\n",
        "```\n",
        "---"
      ],
      "metadata": {
        "id": "gW249ZtT94rO"
      },
      "execution_count": null,
      "outputs": []
    },
    {
      "cell_type": "code",
      "execution_count": null,
      "metadata": {
        "id": "-amTVwtef3WX"
      },
      "outputs": [],
      "source": []
    }
  ]
}